{
  "nbformat": 4,
  "nbformat_minor": 0,
  "metadata": {
    "colab": {
      "provenance": [],
      "authorship_tag": "ABX9TyM8J214snRRor/xk5OpsHqw",
      "include_colab_link": true
    },
    "kernelspec": {
      "name": "python3",
      "display_name": "Python 3"
    },
    "language_info": {
      "name": "python"
    }
  },
  "cells": [
    {
      "cell_type": "markdown",
      "metadata": {
        "id": "view-in-github",
        "colab_type": "text"
      },
      "source": [
        "<a href=\"https://colab.research.google.com/github/gngai/Supernote-Exporter/blob/main/Supernote_Converter.ipynb\" target=\"_parent\"><img src=\"https://colab.research.google.com/assets/colab-badge.svg\" alt=\"Open In Colab\"/></a>"
      ]
    },
    {
      "cell_type": "code",
      "execution_count": 6,
      "metadata": {
        "colab": {
          "base_uri": "https://localhost:8080/"
        },
        "id": "b095SZe2WnGQ",
        "outputId": "2fbb51bd-83c5-431f-e36b-f9567d36ec4e"
      },
      "outputs": [
        {
          "output_type": "stream",
          "name": "stdout",
          "text": [
            "Mounted at /content/drive\n",
            "✅ Cell 1: Imports, Drive mount, and package installation complete!\n"
          ]
        }
      ],
      "source": [
        "# --- IMPORTS ---\n",
        "import os\n",
        "import glob\n",
        "import hashlib\n",
        "import re\n",
        "import time\n",
        "import subprocess\n",
        "from datetime import datetime\n",
        "from google.colab import drive\n",
        "\n",
        "# --- MOUNT GOOGLE DRIVE ---\n",
        "drive.mount('/content/drive', force_remount=True)\n",
        "\n",
        "# --- INSTALL/UPGRADE PACKAGES ---\n",
        "!pip install --upgrade -q supernotelib Pillow\n",
        "\n",
        "print(\"✅ Cell 1: Imports, Drive mount, and package installation complete!\")"
      ]
    },
    {
      "cell_type": "code",
      "source": [
        "# --- CONFIGURATION ---\n",
        "\n",
        "# Define the core paths for your folders.\n",
        "BASE_PATH = '/content/drive/MyDrive'\n",
        "INPUT_FOLDER = os.path.join(BASE_PATH, 'Supernote/Note')\n",
        "OUTPUT_FOLDER = os.path.join(BASE_PATH, 'Supernote_Export')\n",
        "\n",
        "# Internal folders for organization, prefixed with '_'.\n",
        "_ARCHIVE_FOLDER = os.path.join(OUTPUT_FOLDER, '_Archive')\n",
        "_MD5_FOLDER = os.path.join(OUTPUT_FOLDER, '_MD5_Hashes')\n",
        "\n",
        "# Subdirectories to exclude from processing.\n",
        "EXCLUDE_SUBDIRECTORIES = ['Shapes', 'EXPORT']\n",
        "\n",
        "# Number of old PDF versions to keep in the archive for each note.\n",
        "ARCHIVE_COPIES_TO_KEEP = 5\n",
        "\n",
        "# Arguments for the 'supernote-tool' command-line utility.\n",
        "SUPERNOTE_TOOL_ARGS = [\n",
        "    'convert',  # The main command to convert a file.\n",
        "    '-a',       # Process all pages in the note file.\n",
        "    '-t', 'pdf' # Set the output type to PDF.\n",
        "]\n",
        "\n",
        "print(\"✅ Cell 2: Configuration loaded!\")"
      ],
      "metadata": {
        "colab": {
          "base_uri": "https://localhost:8080/"
        },
        "id": "FMKkQErdDMOn",
        "outputId": "ec8b4fa5-3e52-495d-af8d-8526b25cdd29"
      },
      "execution_count": 7,
      "outputs": [
        {
          "output_type": "stream",
          "name": "stdout",
          "text": [
            "✅ Cell 2: Configuration loaded!\n"
          ]
        }
      ]
    },
    {
      "cell_type": "code",
      "source": [
        "def initialize_environment():\n",
        "    \"\"\"Ensures all necessary directories exist before running the script.\"\"\"\n",
        "    print(\"Initializing folder structure...\")\n",
        "    for folder in [INPUT_FOLDER, OUTPUT_FOLDER, _ARCHIVE_FOLDER, _MD5_FOLDER]:\n",
        "        os.makedirs(folder, exist_ok=True)\n",
        "    print(\"Folder structure verified.\")\n",
        "\n",
        "def _get_valid_note_files():\n",
        "    \"\"\"Internal helper to get all .note files, respecting exclusions.\"\"\"\n",
        "    all_files = glob.glob(os.path.join(INPUT_FOLDER, '**/*.note'), recursive=True)\n",
        "    return [f for f in all_files if not any(ex in os.path.relpath(f, INPUT_FOLDER).split(os.sep) for ex in EXCLUDE_SUBDIRECTORIES)]\n",
        "\n",
        "def _calculate_md5(file_path):\n",
        "    \"\"\"Calculates the MD5 hash of a file.\"\"\"\n",
        "    hash_md5 = hashlib.md5()\n",
        "    try:\n",
        "        with open(file_path, \"rb\") as f:\n",
        "            for chunk in iter(lambda: f.read(4096), b\"\"): hash_md5.update(chunk)\n",
        "        return hash_md5.hexdigest()\n",
        "    except IOError as e:\n",
        "        print(f\"    ⚠️ Could not calculate MD5 for {os.path.basename(file_path)}: {e}\")\n",
        "        return None\n",
        "\n",
        "def convert_note_file(note_file_path):\n",
        "    \"\"\"Converts a single .note file to PDF if it has changed, with archiving.\"\"\"\n",
        "    try:\n",
        "        relative_path = os.path.relpath(note_file_path, INPUT_FOLDER)\n",
        "        print(f\"🔄 Processing: {relative_path}\")\n",
        "\n",
        "        # Calculate Paths\n",
        "        base_name, _ = os.path.splitext(os.path.basename(note_file_path))\n",
        "        relative_dir = os.path.dirname(relative_path)\n",
        "        output_subdir = os.path.join(OUTPUT_FOLDER, relative_dir)\n",
        "        archive_subdir = os.path.join(_ARCHIVE_FOLDER, relative_dir)\n",
        "        md5_subdir = os.path.join(_MD5_FOLDER, relative_dir)\n",
        "        for folder in [output_subdir, archive_subdir, md5_subdir]: os.makedirs(folder, exist_ok=True)\n",
        "\n",
        "        output_pdf_path = os.path.join(output_subdir, f\"{base_name}.pdf\")\n",
        "        hash_file_path = os.path.join(md5_subdir, f\"{base_name}.md5\")\n",
        "\n",
        "        # Check for Changes\n",
        "        current_hash = _calculate_md5(note_file_path)\n",
        "        last_hash = open(hash_file_path, 'r').read().strip() if os.path.exists(hash_file_path) else None\n",
        "        if current_hash and current_hash == last_hash and os.path.exists(output_pdf_path):\n",
        "            print(\"    ☑️ No changes detected. Skipping.\")\n",
        "            return None\n",
        "\n",
        "        # Archive and Convert\n",
        "        if os.path.exists(output_pdf_path):\n",
        "            timestamp = datetime.fromtimestamp(os.path.getmtime(output_pdf_path)).strftime(\"%Y%m%d_%H%M%S\")\n",
        "            archive_path = os.path.join(archive_subdir, f\"{base_name}_{timestamp}.pdf\")\n",
        "            print(f\"    📦 Archiving existing PDF...\")\n",
        "            os.rename(output_pdf_path, archive_path)\n",
        "            existing_archives = sorted(glob.glob(os.path.join(archive_subdir, f'{base_name}_*.pdf')))\n",
        "            for old_archive in existing_archives[:-ARCHIVE_COPIES_TO_KEEP]: os.remove(old_archive)\n",
        "\n",
        "        print(\"    ⚙️ Converting to PDF...\")\n",
        "        command = ['supernote-tool'] + SUPERNOTE_TOOL_ARGS + [note_file_path, output_pdf_path]\n",
        "        subprocess.run(command, check=True, capture_output=True, text=True)\n",
        "\n",
        "        if current_hash:\n",
        "            with open(hash_file_path, 'w') as f: f.write(current_hash)\n",
        "\n",
        "        print(f\"    ✅ Success! Saved to: {os.path.relpath(output_pdf_path, BASE_PATH)}\")\n",
        "        return True\n",
        "\n",
        "    except subprocess.CalledProcessError as e:\n",
        "        print(f\"    ❌ ERROR during conversion: {e.stderr.strip()}\")\n",
        "        return False\n",
        "    except Exception as e:\n",
        "        print(f\"    ❌ An unexpected error occurred with {os.path.basename(note_file_path)}: {e}\")\n",
        "        return False\n",
        "\n",
        "# --- INITIALIZE THE ENVIRONMENT ---\n",
        "initialize_environment()\n",
        "print(\"\\n✅ Cell 3: Core logic loaded and environment initialized!\")"
      ],
      "metadata": {
        "colab": {
          "base_uri": "https://localhost:8080/"
        },
        "id": "8PNA-HW6Wy_y",
        "outputId": "5e666da2-e9f4-4ba9-a03f-eb0b1aa79d6e"
      },
      "execution_count": 8,
      "outputs": [
        {
          "output_type": "stream",
          "name": "stdout",
          "text": [
            "Initializing folder structure...\n",
            "Folder structure verified.\n",
            "\n",
            "✅ Cell 3: Core logic loaded and environment initialized!\n"
          ]
        }
      ]
    },
    {
      "cell_type": "code",
      "source": [
        "def convert_all_files():\n",
        "    \"\"\"Converts all valid .note files, skipping any that haven't changed.\"\"\"\n",
        "    print(\"--- 🚀 Starting Full Conversion Process ---\")\n",
        "    files_to_process = _get_valid_note_files()\n",
        "    total_files = len(files_to_process)\n",
        "    if not total_files:\n",
        "        print(\"No .note files found to process.\")\n",
        "        return\n",
        "\n",
        "    print(f\"Found {total_files} files to check for conversion.\")\n",
        "    processed_count, converted_count = 0, 0\n",
        "    for file_path in files_to_process:\n",
        "        result = convert_note_file(file_path)\n",
        "        if result is False: continue\n",
        "        processed_count += 1\n",
        "        if result is True: converted_count += 1\n",
        "\n",
        "    print(\"\\n--- ✨ Full Conversion Complete ---\")\n",
        "    print(f\"📊 {converted_count} of {total_files} file(s) were newly converted or updated.\")\n",
        "    print(f\"✅ Processed {processed_count} of {total_files} files without errors.\")\n",
        "\n",
        "\n",
        "def clean_export_folder():\n",
        "    \"\"\"Moves PDFs to the archive if their source .note file is gone.\"\"\"\n",
        "    print(\"--- 🧹 Archiving Orphan Exports ---\")\n",
        "    expected_pdfs = {os.path.splitext(os.path.relpath(f, INPUT_FOLDER))[0] + '.pdf' for f in _get_valid_note_files()}\n",
        "    all_exported_pdfs = [f for f in glob.glob(os.path.join(OUTPUT_FOLDER, '**/*.pdf'), recursive=True)\n",
        "                         if not os.path.relpath(f, OUTPUT_FOLDER).startswith('_')]\n",
        "\n",
        "    archived_count = 0\n",
        "    for pdf_path in all_exported_pdfs:\n",
        "        relative_pdf = os.path.relpath(pdf_path, OUTPUT_FOLDER)\n",
        "        if relative_pdf not in expected_pdfs:\n",
        "            print(f\"📁 Archiving orphan: {relative_pdf}\")\n",
        "            base_name, _ = os.path.splitext(os.path.basename(pdf_path))\n",
        "            relative_dir = os.path.dirname(relative_pdf)\n",
        "            archive_subdir = os.path.join(_ARCHIVE_FOLDER, relative_dir)\n",
        "            os.makedirs(archive_subdir, exist_ok=True)\n",
        "\n",
        "            timestamp = datetime.fromtimestamp(os.path.getmtime(pdf_path)).strftime(\"%Y%m%d_%H%M%S\")\n",
        "            archive_filename = f\"{base_name}_{timestamp}_ARCHIVED.pdf\"\n",
        "            archive_path = os.path.join(archive_subdir, archive_filename)\n",
        "\n",
        "            os.rename(pdf_path, archive_path)\n",
        "            md5_path = os.path.join(_MD5_FOLDER, os.path.splitext(relative_pdf)[0] + '.md5')\n",
        "            if os.path.exists(md5_path): os.remove(md5_path)\n",
        "            archived_count += 1\n",
        "\n",
        "    print(f\"✅ Archiving complete. Archived {archived_count} file(s).\")\n",
        "\n",
        "\n",
        "def clean_archive_folder():\n",
        "    \"\"\"Deletes all archived versions of a note if its main PDF no longer exists.\"\"\"\n",
        "    print(\"--- 🧹 Cleaning Archive Folder ---\")\n",
        "    primary_pdfs = {f for f in glob.glob(os.path.join(OUTPUT_FOLDER, '**/*.pdf'), recursive=True)\n",
        "                    if not os.path.relpath(f, OUTPUT_FOLDER).startswith('_')}\n",
        "    all_archives = glob.glob(os.path.join(_ARCHIVE_FOLDER, '**/*_*.pdf'), recursive=True)\n",
        "\n",
        "    deleted_count = 0\n",
        "    archive_pattern = re.compile(r'^(.*?)_(\\d{8}_\\d{6})(_ARCHIVED)?\\.pdf$')\n",
        "\n",
        "    for archive_path in all_archives:\n",
        "        match = archive_pattern.match(os.path.basename(archive_path))\n",
        "        if match:\n",
        "            base_name = match.group(1)\n",
        "            relative_dir = os.path.relpath(os.path.dirname(archive_path), _ARCHIVE_FOLDER)\n",
        "            primary_pdf_path = os.path.join(OUTPUT_FOLDER, relative_dir, f\"{base_name}.pdf\") if relative_dir != '.' else os.path.join(OUTPUT_FOLDER, f\"{base_name}.pdf\")\n",
        "\n",
        "            if primary_pdf_path not in primary_pdfs:\n",
        "                print(f\"🗑️ Deleting orphan archive: {os.path.relpath(archive_path, _ARCHIVE_FOLDER)}\")\n",
        "                os.remove(archive_path)\n",
        "                deleted_count += 1\n",
        "\n",
        "    print(f\"✅ Archive cleanup complete. Deleted {deleted_count} orphan archive(s).\")\n",
        "\n",
        "print(\"✅ Cell 4: High-level and cleanup functions loaded!\")"
      ],
      "metadata": {
        "colab": {
          "base_uri": "https://localhost:8080/"
        },
        "id": "xRhd2rqUW3oS",
        "outputId": "412ab747-804d-4652-f0a9-c76c9f301fea"
      },
      "execution_count": 9,
      "outputs": [
        {
          "output_type": "stream",
          "name": "stdout",
          "text": [
            "✅ Cell 4: High-level and cleanup functions loaded!\n"
          ]
        }
      ]
    },
    {
      "cell_type": "code",
      "source": [
        "# ==============================================================================\n",
        "# --- ⚙️ EXECUTION HUB ---\n",
        "#\n",
        "# Instructions:\n",
        "# 1. Run Cells 1, 2, and 3 to load everything.\n",
        "# 2. Uncomment ONE of the function calls below.\n",
        "# 3. Run this cell to perform the action.\n",
        "# ==============================================================================\n",
        "\n",
        "\n",
        "# --- CONVERT ALL FILES ---\n",
        "# Checks all notes and converts only those that have been added or changed.\n",
        "convert_all_files()\n",
        "\n",
        "\n",
        "# --- CLEANUP FUNCTIONS ---\n",
        "# Use these to organize your exported files and archives.\n",
        "\n",
        "# Archives PDFs if the source .note file is gone.\n",
        "# clean_export_folder()\n",
        "\n",
        "# Deletes old archived versions for notes that no longer have a primary PDF.\n",
        "# clean_archive_folder()\n",
        "\n",
        "\n",
        "# ------------------------------------------------------------------------------\n",
        "# print(\"✅ Execution Hub is ready. Uncomment a command to run.\")"
      ],
      "metadata": {
        "colab": {
          "base_uri": "https://localhost:8080/"
        },
        "id": "iYmedd4cW6Vv",
        "outputId": "959316cf-65a6-4f6f-a82a-b6b2e04ec0a3"
      },
      "execution_count": 10,
      "outputs": [
        {
          "output_type": "stream",
          "name": "stdout",
          "text": [
            "--- 🚀 Starting Full Conversion Process ---\n",
            "Found 25 files to check for conversion.\n",
            "🔄 Processing: Medicaid.note\n",
            "    ☑️ No changes detected. Skipping.\n",
            "🔄 Processing: Wish List Purchases.note\n",
            "    ☑️ No changes detected. Skipping.\n",
            "🔄 Processing: Heating Schedule.note\n",
            "    ☑️ No changes detected. Skipping.\n",
            "🔄 Processing: House Projects.note\n",
            "    ☑️ No changes detected. Skipping.\n",
            "🔄 Processing: Clothing Inventory.note\n",
            "    ☑️ No changes detected. Skipping.\n",
            "🔄 Processing: 20241001_141333.note\n",
            "    ☑️ No changes detected. Skipping.\n",
            "🔄 Processing: Frivolous Spend 2025.note\n",
            "    ☑️ No changes detected. Skipping.\n",
            "🔄 Processing: Estate Planning.note\n",
            "    ☑️ No changes detected. Skipping.\n",
            "🔄 Processing: Food Recipe Mods.note\n",
            "    ☑️ No changes detected. Skipping.\n",
            "🔄 Processing: Divorce Checklist.note\n",
            "    ☑️ No changes detected. Skipping.\n",
            "🔄 Processing: @Priorities@.note\n",
            "    ☑️ No changes detected. Skipping.\n",
            "🔄 Processing: Travel.note\n",
            "    ☑️ No changes detected. Skipping.\n",
            "🔄 Processing: Gift Ideas.note\n",
            "    ☑️ No changes detected. Skipping.\n",
            "🔄 Processing: How to Keep House While Drowning.note\n",
            "    ☑️ No changes detected. Skipping.\n",
            "🔄 Processing: Daddy Medical.note\n",
            "    ☑️ No changes detected. Skipping.\n",
            "🔄 Processing: @SCRATCH@.note\n",
            "    ☑️ No changes detected. Skipping.\n",
            "🔄 Processing: 2025 Italy.note\n",
            "    ☑️ No changes detected. Skipping.\n",
            "🔄 Processing: @TODO@.note\n",
            "    ☑️ No changes detected. Skipping.\n",
            "🔄 Processing: Budget.note\n",
            "    ☑️ No changes detected. Skipping.\n",
            "🔄 Processing: Gmail Items.note\n",
            "    ☑️ No changes detected. Skipping.\n",
            "🔄 Processing: Google Drive/avery sketch.note\n",
            "    ☑️ No changes detected. Skipping.\n",
            "🔄 Processing: Book Summaries/How to Keep House While Drowning.note\n",
            "    ☑️ No changes detected. Skipping.\n",
            "🔄 Processing: Book Summaries/Topic- Cleaning.note\n",
            "    ☑️ No changes detected. Skipping.\n",
            "🔄 Processing: Book Summaries/Topic- Parenting.note\n",
            "    ☑️ No changes detected. Skipping.\n",
            "🔄 Processing: Book Summaries/Topic- Relationships.note\n",
            "    ☑️ No changes detected. Skipping.\n",
            "\n",
            "--- ✨ Full Conversion Complete ---\n",
            "📊 0 of 25 file(s) were newly converted or updated.\n",
            "✅ Processed 25 of 25 files without errors.\n"
          ]
        }
      ]
    }
  ]
}